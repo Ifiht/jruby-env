{
 "cells": [
  {
   "cell_type": "markdown",
   "id": "f0c2e8f8-3731-43a7-8880-6b423552815f",
   "metadata": {},
   "source": [
    "## INITIALIZE"
   ]
  },
  {
   "cell_type": "code",
   "execution_count": 2,
   "id": "227e888a-d4d7-446d-9c11-f23d4691534c",
   "metadata": {},
   "outputs": [],
   "source": [
    "# Install required tools:\n",
    "! echo \"y\" | /home/jovyan/android-sdk/cmdline-tools/latest/bin/sdkmanager --install \"build-tools;19.1.0\" 1>/dev/null"
   ]
  },
  {
   "cell_type": "markdown",
   "id": "0393b86f-0e54-433e-94d1-7c1be84d70cc",
   "metadata": {},
   "source": [
    "### Update Dotfiles:"
   ]
  },
  {
   "cell_type": "code",
   "execution_count": 1,
   "id": "655fb946-f2d9-422c-8cfa-23b9c7fc6334",
   "metadata": {},
   "outputs": [],
   "source": [
    "# bashrc -\n",
    "! cat bashrc > .bashrc"
   ]
  },
  {
   "cell_type": "code",
   "execution_count": 1,
   "id": "3ae5ebac-0118-4576-b645-dd322c9e214a",
   "metadata": {},
   "outputs": [],
   "source": [
    "# gitignore -\n",
    "! cat gitignore > .gitignore"
   ]
  },
  {
   "cell_type": "code",
   "execution_count": null,
   "id": "4567002d-388b-44fe-83c2-a71b8bb9a5fe",
   "metadata": {},
   "outputs": [],
   "source": []
  }
 ],
 "metadata": {
  "kernelspec": {
   "display_name": "Python 3 (ipykernel)",
   "language": "python",
   "name": "python3"
  },
  "language_info": {
   "codemirror_mode": {
    "name": "ipython",
    "version": 3
   },
   "file_extension": ".py",
   "mimetype": "text/x-python",
   "name": "python",
   "nbconvert_exporter": "python",
   "pygments_lexer": "ipython3",
   "version": "3.7.12"
  }
 },
 "nbformat": 4,
 "nbformat_minor": 5
}
