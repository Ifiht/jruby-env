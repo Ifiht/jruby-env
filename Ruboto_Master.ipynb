{
 "cells": [
  {
   "cell_type": "markdown",
   "id": "f0c2e8f8-3731-43a7-8880-6b423552815f",
   "metadata": {},
   "source": [
    "## INITIALIZE"
   ]
  },
  {
   "cell_type": "code",
   "execution_count": 1,
   "id": "227e888a-d4d7-446d-9c11-f23d4691534c",
   "metadata": {},
   "outputs": [],
   "source": [
    "# Install required tools:\n",
    "! echo \"y\" | /home/jovyan/android-sdk/cmdline-tools/latest/bin/sdkmanager --install \"build-tools;19.1.0\" \"platforms;android-19\" > sdk_install_log.txt"
   ]
  },
  {
   "cell_type": "markdown",
   "id": "0393b86f-0e54-433e-94d1-7c1be84d70cc",
   "metadata": {},
   "source": [
    "### Update Dotfiles:"
   ]
  },
  {
   "cell_type": "code",
   "execution_count": 1,
   "id": "655fb946-f2d9-422c-8cfa-23b9c7fc6334",
   "metadata": {},
   "outputs": [],
   "source": [
    "# bashrc -\n",
    "! cat bashrc > .bashrc"
   ]
  },
  {
   "cell_type": "code",
   "execution_count": 5,
   "id": "3ae5ebac-0118-4576-b645-dd322c9e214a",
   "metadata": {},
   "outputs": [],
   "source": [
    "# gitignore -\n",
    "! cat gitignore > .gitignore"
   ]
  },
  {
   "cell_type": "markdown",
   "id": "2d2db064-ff51-46c9-b70c-65dd16f3c7fc",
   "metadata": {},
   "source": [
    "### BUILD!!!"
   ]
  },
  {
   "cell_type": "code",
   "execution_count": null,
   "id": "d19f20c7-6209-4d84-9d45-417e36f74324",
   "metadata": {},
   "outputs": [],
   "source": [
    "! ruboto gen app --package=com.example.rubotoapp --name=RubotoApp --activity=Main --with-jruby"
   ]
  },
  {
   "cell_type": "markdown",
   "id": "bc0474ff-ff0d-4a15-9ad1-63f5d83a4f25",
   "metadata": {},
   "source": [
    "### DESIRED OUTPUT:\n",
    "```\n",
    "Generating Android app CIS651FinalApp in /home/jovyan/cis651finalapp...\n",
    "Created project directory: cis651finalapp\n",
    "Created directory /home/jovyan/cis651finalapp/src/org/evlis/cis651finalapp\n",
    "Added file cis651finalapp/src/org/evlis/cis651finalapp/Main.java\n",
    "Created directory /home/jovyan/cis651finalapp/res\n",
    "Created directory /home/jovyan/cis651finalapp/bin\n",
    "Created directory /home/jovyan/cis651finalapp/libs\n",
    "Created directory /home/jovyan/cis651finalapp/res/values\n",
    "Added file cis651finalapp/res/values/strings.xml\n",
    "Created directory /home/jovyan/cis651finalapp/res/layout\n",
    "Added file cis651finalapp/res/layout/main.xml\n",
    "Created directory /home/jovyan/cis651finalapp/res/drawable-xhdpi\n",
    "Created directory /home/jovyan/cis651finalapp/res/drawable-hdpi\n",
    "Created directory /home/jovyan/cis651finalapp/res/drawable-mdpi\n",
    "Created directory /home/jovyan/cis651finalapp/res/drawable-ldpi\n",
    "Added file cis651finalapp/AndroidManifest.xml\n",
    "Added file cis651finalapp/build.xml\n",
    "Added file cis651finalapp/proguard-project.txt\n",
    "Removed file src/org/evlis/cis651finalapp/Main.java\n",
    "Removed file res/layout/main.xml\n",
    "Done\n",
    "\n",
    "Adding RubotoActivity, RubotoDialog, RubotoService, and SDK versions to the manifest...Done.\n",
    "\n",
    "Generating Android test project CIS651FinalApp in /home/jovyan/cis651finalapp...\n",
    "Found main project package: org.evlis.cis651finalapp\n",
    "Found main project activity: Main\n",
    "Found main project target: Android 4.4.2\n",
    "Created project directory: /home/jovyan/cis651finalapp/test\n",
    "Created directory /home/jovyan/cis651finalapp/test/src/org/evlis/cis651finalapp\n",
    "Added file /home/jovyan/cis651finalapp/test/src/org/evlis/cis651finalapp/MainTest.java\n",
    "Created directory /home/jovyan/cis651finalapp/test/res\n",
    "Created directory /home/jovyan/cis651finalapp/test/bin\n",
    "Created directory /home/jovyan/cis651finalapp/test/libs\n",
    "Added file /home/jovyan/cis651finalapp/test/AndroidManifest.xml\n",
    "Added file /home/jovyan/cis651finalapp/test/build.xml\n",
    "Added file /home/jovyan/cis651finalapp/test/proguard-project.txt\n",
    "Done\n",
    "update_test: target_level: 19\n",
    "\n",
    "Copying files:\n",
    ".gitignore...Done.\n",
    "Rakefile...Done.\n",
    "ruboto.yml...Done.\n",
    "assets...Done.\n",
    "rakelib...Done.\n",
    "res/layout...Done.\n",
    "test...Done.\n",
    "Copying ruboto/version.rb...Done.\n",
    "Copying additional ruboto script components...Done.\n",
    "Copying icons...Done.\n",
    "Ruboto java classes...Done.\n",
    "Ruboto java test classes...Done.\n",
    "Fetching: jruby-jars-1.7.25.gem (100%)\n",
    "Successfully installed jruby-jars-1.7.25\n",
    "1 gem installed\n",
    "Copying /srv/conda/envs/notebook/lib/ruby/gems/2.5.0/gems/jruby-jars-1.7.25/lib/jruby-core-1.7.25.jar to libs...Done.\n",
    "Setting JUMBO dex file format...Done.\n",
    "Copying dx.jar to libs...Done.\n",
    "Removing unneeded classes from jruby-core-1.7.25.jar...warning: [options] source value 6 is obsolete and will be removed in a future release\n",
    "warning: [options] target value 1.6 is obsolete and will be removed in a future release\n",
    "warning: [options] To suppress warnings about obsolete options, use -Xlint:-options.\n",
    "3 warnings\n",
    "Done.\n",
    "Copying /srv/conda/envs/notebook/lib/ruby/gems/2.5.0/gems/jruby-jars-1.7.25/lib/jruby-stdlib-1.7.25.jar to libs...Done.\n",
    "Reformatting jruby-stdlib-1.7.25.jar...ripper...bcpkix-jdk15on-1.54...bcprov-jdk15on-1.54...jopenssl...parser...generator...Done.\n",
    "Removing unneeded classes from dx.jar...Done.\n",
    "JRuby version is now: 1.7.25\n",
    "Copying dx.jar to libs...Done.\n",
    "Loading Android API...Done.\n",
    "Generating methods for RubotoActivity...Done. Methods created: 62\n",
    "Generating methods for RubotoService...Done. Methods created: 10\n",
    "Generating methods for RubotoBroadcastReceiver...Done. Methods created: 1\n",
    "patching build.xml\n",
    "Generating the default Activity and script...Added file /home/jovyan/cis651finalapp/src/org/evlis/cis651finalapp/Main.java.\n",
    "Added file /home/jovyan/cis651finalapp/src/main.rb.\n",
    "Added file /home/jovyan/cis651finalapp/test/src/main_test.rb.\n",
    "Done.\n",
    "\n",
    "Hello, CIS651FinalApp\n",
    "```"
   ]
  },
  {
   "cell_type": "code",
   "execution_count": null,
   "id": "98220424-9687-474c-9d99-f9cd04e99f71",
   "metadata": {},
   "outputs": [],
   "source": []
  }
 ],
 "metadata": {
  "kernelspec": {
   "display_name": "Python 3 (ipykernel)",
   "language": "python",
   "name": "python3"
  },
  "language_info": {
   "codemirror_mode": {
    "name": "ipython",
    "version": 3
   },
   "file_extension": ".py",
   "mimetype": "text/x-python",
   "name": "python",
   "nbconvert_exporter": "python",
   "pygments_lexer": "ipython3",
   "version": "3.7.12"
  }
 },
 "nbformat": 4,
 "nbformat_minor": 5
}
